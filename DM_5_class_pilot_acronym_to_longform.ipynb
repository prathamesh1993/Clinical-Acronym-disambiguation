{
 "cells": [
  {
   "cell_type": "code",
   "execution_count": 35,
   "metadata": {},
   "outputs": [],
   "source": [
    "from gensim.models import KeyedVectors\n",
    "import pandas as pd\n",
    "import numpy as np\n",
    "from urllib.request import Request, urlopen\n",
    "from bs4 import BeautifulSoup\n",
    "pd.set_option('display.max_colwidth', -1)"
   ]
  },
  {
   "cell_type": "code",
   "execution_count": 36,
   "metadata": {},
   "outputs": [],
   "source": [
    "model = KeyedVectors.load_word2vec_format('/Word_sense_all_data/bio_nlp_vec/PubMed-shuffle-win-30.bin', binary=True)\n"
   ]
  },
  {
   "cell_type": "code",
   "execution_count": 37,
   "metadata": {},
   "outputs": [
    {
     "name": "stdout",
     "output_type": "stream",
     "text": [
      "[('Stroke', 0.821251630783081), ('stoke', 0.8012742400169373), ('stroke-related', 0.7877746820449829), ('cardioembolic', 0.7663429975509644), ('TIA', 0.7593713402748108), ('cerebrovascular', 0.759026825428009)]\n"
     ]
    },
    {
     "data": {
      "text/plain": [
       "[('SK-N-SH', 0.8899902105331421),\n",
       " ('IMR-32', 0.887042224407196),\n",
       " ('glioma', 0.8706138134002686),\n",
       " ('astrocyte', 0.8669655919075012),\n",
       " ('Hs683', 0.8647631406784058),\n",
       " ('Neuro-2A', 0.8643868565559387),\n",
       " ('astrocytes', 0.862960696220398),\n",
       " ('U87-MG', 0.8623798489570618),\n",
       " ('U373', 0.8599711656570435),\n",
       " ('U-87', 0.8597809672355652)]"
      ]
     },
     "execution_count": 37,
     "metadata": {},
     "output_type": "execute_result"
    }
   ],
   "source": [
    "w1 =\"stroke\"\n",
    "print(model.most_similar(positive = w1, topn = 6))\n",
    "model.most_similar_cosmul(positive=['hepatoma', 'brain'], negative=['liver'])"
   ]
  },
  {
   "cell_type": "code",
   "execution_count": 38,
   "metadata": {},
   "outputs": [],
   "source": [
    "stop_words = \"disease, diseases, disorder, symptom, symptoms, drug, drugs, problems, problem,prob, probs, med, meds,\\\n",
    ", pill, pills, medicine, medicines, medication, medications, treatment, treatments, caps, capsules, capsule,\\\n",
    ", tablet, tablets, tabs, doctor, dr, dr., doc, physician, physicians, test, tests, testing, specialist, specialists,\\\n",
    ", side-effect, side-effects, patient, patients, pharmaceutical, pharmaceuticals, pharma, diagnosis, diagnose, diagnosed, exam,\\\n",
    ", challenge, device, condition, conditions, suffer, suffering ,suffered, feel, feeling, prescription, prescribe,\\\n",
    ", prescribed, over-the-counter, a, about, above, after, again, against, all, am, an, and, any, are, aren't, as, at, be, because, been, before,\\\n",
    ", being, below, between, both, but, by, can, can't, cannot, could, couldn't, did, didn't, do, does, doesn't,\\\n",
    ", doing, don't, down, during, each, few, for, from, further, had, hadn't, has, hasn't, have, haven't, having, he,\\\n",
    ", he'd, he'll, he's, her, here, here's, hers, herself, him, himself, his, how, how's, i, i'd, i'll, i'm, i've, if, in, into,\\\n",
    ", is, isn't, it, it's, its, itself, let's, me, more, most, mustn't, my, myself, no, nor, not, of, off, on, once, only, or,\\\n",
    ", other, ought, our, ours , ourselves, out, over, own, same, shan't, she, she'd, she'll, she's, should, shouldn't,\\\n",
    ", so, some, such, than, that, that's, the, their, theirs, them, themselves, then, there, there's, these, they,\\\n",
    ", they'd, they'll, they're, they've, this, those, through, to, too, under, until, up, very, was, wasn't, we, we'd,\\\n",
    ", we'll, we're, we've, were, weren't, what, what's, when, when's, where, where's, which, while, who, who's,\\\n",
    ", whom, why, why's, with, won't, would, wouldn't, you, you'd, you'll, you're, you've, your, yours, yourself,\\\n",
    ", yourselves, n't, 're, 've, 'd, 's, 'll, 'm\".replace(',','').split(' ')"
   ]
  },
  {
   "cell_type": "code",
   "execution_count": 39,
   "metadata": {},
   "outputs": [],
   "source": [
    "from nltk.tokenize import TreebankWordTokenizer\n",    
    "#from nltk.stem.snowball import SnowballStemmer\n",
    "def sentence_vector(sentence):\n",
    "    word_list = TreebankWordTokenizer().tokenize(sentence)\n",
    "    #stemmer = SnowballStemmer(\"english\", ignore_stopwords=True)\n",
    "    #word_list = [stemmer.stem(x) for x in word_list]\n",
    "    word_list = [word for word in word_list if word not in stop_words]\n",
    "    word_vectors = []\n",
    "    for x in word_list:\n",
    "        try:\n",
    "            word_vectors.append(model[x])\n",
    "        except KeyError:\n",
    "            None    \n",
    "    return sum(word_vectors)/len(word_vectors)\n",
    "def vector_breakage(sentence):\n",
    "    word_list = TreebankWordTokenizer().tokenize(sentence)\n",
    "    #stemmer = SnowballStemmer(\"english\", ignore_stopwords=True)\n",
    "    #word_list = [stemmer.stem(x) for x in word_list]\n",
    "    word_list = [word for word in word_list if word not in stop_words]\n",
    "    word_vectors_list = []\n",
    "    for x in word_list:\n",
    "        try:\n",
    "            if len(model[x])==200:\n",
    "                word_vectors_list.append(x)\n",
    "        except:\n",
    "            None\n",
    "        else:\n",
    "            None\n",
    "    return word_vectors_list"
   ]
  },
  {
   "cell_type": "code",
   "execution_count": 40,
   "metadata": {},
   "outputs": [
    {
     "data": {
      "text/plain": [
       "array(['dry matter', 'myotonic_dystrophy', 'diabetes', 'dextromethorphan',\n",
       "       'dexamethasone'], dtype=object)"
      ]
     },
     "execution_count": 40,
     "metadata": {},
     "output_type": "execute_result"
    }
   ],
   "source": [
    "df = pd.read_csv(\"/Word_sense_all_data/DM_dataset.csv\")\n",
    "df = df[['sentence','label']]\n",
    "df['vec'] = [sentence_vector(x) for x in df.sentence]\n",
    "df.label.unique()\n"
   ]
  },
  {
   "cell_type": "code",
   "execution_count": 41,
   "metadata": {},
   "outputs": [],
   "source": [
    "from sklearn.model_selection import train_test_split\n",
    "from sklearn.svm import SVC\n",
    "from sklearn.metrics import confusion_matrix\n",
    "from sklearn.model_selection import cross_val_score\n",
    "from sklearn.metrics import f1_score\n",
    "from sklearn.metrics import precision_recall_fscore_support"
   ]
  },
  {
   "cell_type": "code",
   "execution_count": 42,
   "metadata": {},
   "outputs": [],
   "source": [
    "X = list(df.vec)\n",
    "X = np.array(X)\n",
    "y = df.label\n",
    "X_train, X_test, y_train, y_test = train_test_split(X, y)"
   ]
  },
  {
   "cell_type": "code",
   "execution_count": 43,
   "metadata": {},
   "outputs": [],
   "source": [
    "clf = SVC(C=1.0, kernel='linear', degree=1).fit(X_train, y_train)"
   ]
  },
  {
   "cell_type": "code",
   "execution_count": 44,
   "metadata": {},
   "outputs": [],
   "source": [
    "pred = clf.predict(X_test)\n",
    "cm = confusion_matrix(y_test, pred,labels=list(set(df.label)))\n",
    "cross_val_scores = cross_val_score(clf, X, y, cv=7)"
   ]
  },
  {
   "cell_type": "code",
   "execution_count": 45,
   "metadata": {},
   "outputs": [
    {
     "name": "stdout",
     "output_type": "stream",
     "text": [
      "accuracy: [0.9321267  0.94090909 0.91324201 0.92201835 0.93577982 0.95391705\n",
      " 0.95833333]\n",
      "\n",
      "{'dextromethorphan', 'dry matter', 'myotonic_dystrophy', 'diabetes', 'dexamethasone'}\n",
      "[152, 520, 374, 407, 76]\n",
      "\n",
      "[[ 30   0   0   1   0]\n",
      " [  0 131   0   0   1]\n",
      " [  1   0  88   4   1]\n",
      " [  1   1   3 100   1]\n",
      " [  2   1   0   0  17]]\n",
      "\n",
      "0.9556710330784836\n"
     ]
    }
   ],
   "source": [
    "print('accuracy: {}'.format(cross_val_scores))\n",
    "print()\n",
    "print(set(df.label))\n",
    "print([len(df[df.label == x]) for x in set(df.label)])\n",
    "print()\n",
    "print(cm)\n",
    "print()\n",
    "print(f1_score(y_test,pred,average = 'weighted'))"
   ]
  },
  {
   "cell_type": "code",
   "execution_count": 46,
   "metadata": {},
   "outputs": [
    {
     "name": "stdout",
     "output_type": "stream",
     "text": [
      "['Patient', 'tested', 'cystic', 'fibrosis', 'heritable']\n",
      "['myotonic_dystrophy']\n"
     ]
    }
   ],
   "source": [
    "sentence = 'Patient was tested for dm, cystic fibrosis and other heritable diseases '\n",
    "print(vector_breakage(sentence))\n",
    "print(clf.predict(sentence_vector(sentence).reshape(1, -1)))"
   ]
  },
  {
   "cell_type": "markdown",
   "metadata": {},
   "source": [
    "## Try"
   ]
  },
  {
   "cell_type": "code",
   "execution_count": 153,
   "metadata": {},
   "outputs": [
    {
     "data": {
      "text/plain": [
       "\"try_out = ''\\nprint(vector_breakage(try_out))\\nprint(clf.predict(sentence_vector(try_out).reshape(1, -1)))\""
      ]
     },
     "execution_count": 153,
     "metadata": {},
     "output_type": "execute_result"
    }
   ],
   "source": [
    "try_out = ''\n",
    "print(vector_breakage(try_out))\n",
    "print(clf.predict(sentence_vector(try_out).reshape(1, -1)))"
   ]
  },
  {
   "cell_type": "code",
   "execution_count": null,
   "metadata": {},
   "outputs": [],
   "source": []
  },
  {
   "cell_type": "code",
   "execution_count": null,
   "metadata": {},
   "outputs": [],
   "source": []
  },
  {
   "cell_type": "code",
   "execution_count": null,
   "metadata": {},
   "outputs": [],
   "source": []
  }
 ],
 "metadata": {
  "kernelspec": {
   "display_name": "Python 3",
   "language": "python",
   "name": "python3"
  },
  "language_info": {
   "codemirror_mode": {
    "name": "ipython",
    "version": 3
   },
   "file_extension": ".py",
   "mimetype": "text/x-python",
   "name": "python",
   "nbconvert_exporter": "python",
   "pygments_lexer": "ipython3",
   "version": "3.6.5"
  }
 },
 "nbformat": 4,
 "nbformat_minor": 2
}
